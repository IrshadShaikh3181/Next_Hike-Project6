{
 "cells": [
  {
   "cell_type": "code",
   "execution_count": 1,
   "id": "e40d1325-e370-470c-a3e1-d7415d9d9166",
   "metadata": {},
   "outputs": [],
   "source": [
    "# 3_ML_RF.ipynb\n",
    "\n",
    "import pandas as pd\n",
    "import numpy as np\n",
    "import logging\n",
    "import os\n",
    "import datetime\n",
    "from sklearn.ensemble import RandomForestRegressor\n",
    "from sklearn.model_selection import train_test_split\n",
    "from sklearn.metrics import mean_squared_error\n",
    "from sklearn.pipeline import Pipeline\n",
    "from sklearn.preprocessing import StandardScaler\n",
    "import joblib\n"
   ]
  },
  {
   "cell_type": "code",
   "execution_count": 3,
   "id": "47c167da-be6a-452d-8644-6faa71e4b514",
   "metadata": {},
   "outputs": [],
   "source": [
    "# Setup logging\n",
    "os.makedirs('../outputs', exist_ok=True)\n",
    "os.makedirs('../models', exist_ok=True)\n",
    "logging.basicConfig(filename='../outputs/ml_training.log', level=logging.INFO,\n",
    "                    format='%(asctime)s - %(levelname)s - %(message)s')\n"
   ]
  },
  {
   "cell_type": "code",
   "execution_count": 5,
   "id": "abdeaa62-4dec-43d1-ac24-f75d7c06f93b",
   "metadata": {},
   "outputs": [],
   "source": [
    "timestamp = datetime.datetime.now().strftime('%Y%m%d_%H%M%S')\n",
    "logging.info(\"🚀 Started ML training with RandomForest\")"
   ]
  },
  {
   "cell_type": "code",
   "execution_count": 7,
   "id": "4aa69e7a-f0a4-480f-bb6d-f79241bdfa42",
   "metadata": {},
   "outputs": [],
   "source": [
    "# Load dataset (update timestamp accordingly)\n",
    "df = pd.read_csv('../data/store_train_20250621_143714.csv', dtype={'StateHoliday': str})\n",
    "logging.info(f\"Loaded store_train dataset with shape: {df.shape}\")"
   ]
  },
  {
   "cell_type": "code",
   "execution_count": 9,
   "id": "64e8e05a-cd98-4ce0-a444-2f1d668c09a6",
   "metadata": {},
   "outputs": [],
   "source": [
    "# Drop rows with zero sales or store closed\n",
    "df = df[(df['Open'] == 1) & (df['Sales'] > 0)]"
   ]
  },
  {
   "cell_type": "code",
   "execution_count": 11,
   "id": "97a14ef3-86ba-4292-b1ab-92db8ff6e82c",
   "metadata": {},
   "outputs": [],
   "source": [
    "# Define features and target\n",
    "target = 'Sales'\n",
    "features = [\n",
    "    'Store', 'DayOfWeek', 'Promo', 'Year', 'Month', 'Day', 'WeekOfYear',\n",
    "    'SchoolHoliday', 'StateHoliday', 'StoreType', 'Assortment',\n",
    "    'CompetitionDistance', 'Promo2', 'Promo2SinceYear', 'Promo2SinceWeek', 'IsWeekend'\n",
    "]"
   ]
  },
  {
   "cell_type": "code",
   "execution_count": 13,
   "id": "f28b940b-2580-4ebf-a369-bed30ce805c6",
   "metadata": {},
   "outputs": [],
   "source": [
    "# Encode 'StateHoliday' (if still string)\n",
    "df['StateHoliday'] = df['StateHoliday'].astype('category').cat.codes\n",
    "\n",
    "X = df[features]\n",
    "y = df[target]"
   ]
  },
  {
   "cell_type": "code",
   "execution_count": 15,
   "id": "10347b7a-6a0b-4f82-91af-28a1d4e6dcc4",
   "metadata": {},
   "outputs": [],
   "source": [
    "# Split\n",
    "X_train, X_val, y_train, y_val = train_test_split(X, y, test_size=0.2, random_state=42)\n",
    "logging.info(\"Split data into training and validation sets\")\n"
   ]
  },
  {
   "cell_type": "code",
   "execution_count": null,
   "id": "8eeb3583-b252-4cb6-ae82-416d069a85ca",
   "metadata": {},
   "outputs": [],
   "source": [
    "# Build pipeline\n",
    "pipeline = Pipeline([\n",
    "    ('scaler', StandardScaler()),\n",
    "    ('rf', RandomForestRegressor(n_estimators=50, random_state=42))\n",
    "])\n",
    "pipeline.fit(X_train, y_train)\n",
    "logging.info(\"✅ Model trained successfully\")"
   ]
  },
  {
   "cell_type": "code",
   "execution_count": null,
   "id": "d68e4684-0a36-4e9a-aac9-9437a734f9a1",
   "metadata": {},
   "outputs": [],
   "source": [
    "# Predict and evaluate\n",
    "y_pred = pipeline.predict(X_val)\n",
    "rmse = np.sqrt(mean_squared_error(y_val, y_pred))\n",
    "print(f\"Validation RMSE: {rmse:.2f}\")\n",
    "logging.info(f\"Validation RMSE: {rmse:.2f}\")"
   ]
  },
  {
   "cell_type": "code",
   "execution_count": null,
   "id": "85816a0b-ae70-4cc1-803c-038e2bbe684b",
   "metadata": {},
   "outputs": [],
   "source": [
    "# Serialize model\n",
    "model_path = f'../models/rf_model_{timestamp}.pkl'\n",
    "joblib.dump(pipeline, model_path)\n",
    "logging.info(f\"🧠 Model saved to: {model_path}\")"
   ]
  },
  {
   "cell_type": "code",
   "execution_count": null,
   "id": "f4168f21-4895-4ac2-a08c-f0a77530894b",
   "metadata": {},
   "outputs": [],
   "source": [
    "import joblib\n",
    "\n",
    "# Path to save the model\n",
    "model_path = f'../models/rf_model_{timestamp}.pkl'\n",
    "\n",
    "# Save the pipeline model to disk\n",
    "joblib.dump(pipeline, model_path)\n",
    "\n",
    "# Log the model save\n",
    "logging.info(f\"🧠 Model saved to: {model_path}\")\n"
   ]
  },
  {
   "cell_type": "code",
   "execution_count": null,
   "id": "398b519c-a75f-4419-b9d9-cb69c1653c3c",
   "metadata": {},
   "outputs": [],
   "source": []
  },
  {
   "cell_type": "code",
   "execution_count": null,
   "id": "6e712fd3-32f6-4576-84d0-a93adf101a38",
   "metadata": {},
   "outputs": [],
   "source": []
  }
 ],
 "metadata": {
  "kernelspec": {
   "display_name": "Python 3 (ipykernel)",
   "language": "python",
   "name": "python3"
  },
  "language_info": {
   "codemirror_mode": {
    "name": "ipython",
    "version": 3
   },
   "file_extension": ".py",
   "mimetype": "text/x-python",
   "name": "python",
   "nbconvert_exporter": "python",
   "pygments_lexer": "ipython3",
   "version": "3.12.4"
  }
 },
 "nbformat": 4,
 "nbformat_minor": 5
}
