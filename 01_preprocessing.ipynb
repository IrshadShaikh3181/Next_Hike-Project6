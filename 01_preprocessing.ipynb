{
 "cells": [
  {
   "cell_type": "code",
   "execution_count": 9,
   "id": "8162e984-72cd-4d20-b696-d8a8c844d3af",
   "metadata": {},
   "outputs": [],
   "source": [
    "# 01_preprocessing.ipynb\n",
    "\n",
    "import pandas as pd\n",
    "import numpy as np\n",
    "import datetime\n",
    "import os\n",
    "import logging\n",
    "\n",
    "# ✅ Create output folder if not exists\n",
    "os.makedirs('../outputs', exist_ok=True)\n",
    "\n",
    "# ✅ Now configure logger\n",
    "logging.basicConfig(filename='../outputs/preprocessing.log', level=logging.INFO,\n",
    "                    format='%(asctime)s - %(levelname)s - %(message)s')\n",
    "\n",
    "# Set logging\n",
    "logging.basicConfig(filename='../outputs/preprocessing.log', level=logging.INFO,\n",
    "                    format='%(asctime)s - %(levelname)s - %(message)s')\n",
    "\n",
    "timestamp = datetime.datetime.now().strftime('%Y%m%d_%H%M%S')\n",
    "logging.info(\"📦 Starting full preprocessing pipeline\")\n"
   ]
  },
  {
   "cell_type": "code",
   "execution_count": 21,
   "id": "98a508d8-2f6d-4b48-a60f-4bc40fa2d3b2",
   "metadata": {},
   "outputs": [],
   "source": [
    "# Load data\n",
    "import pandas as pd\n",
    "train = pd.read_csv('../data/train.csv', low_memory=False)\n",
    "test = pd.read_csv('../data/test.csv', low_memory=False)\n",
    "store = pd.read_csv('../data/store.csv')\n",
    "\n",
    "logging.info(f\"Loaded train: {train.shape}, test: {test.shape}, store: {store.shape}\")"
   ]
  },
  {
   "cell_type": "code",
   "execution_count": 23,
   "id": "c41dd1af-5fd4-4951-94c9-e0dedd4b7e36",
   "metadata": {},
   "outputs": [],
   "source": [
    "# Preprocess function for date features\n",
    "def preprocess_date(df):\n",
    "    df['Date'] = pd.to_datetime(df['Date'])\n",
    "    df['Year'] = df['Date'].dt.year\n",
    "    df['Month'] = df['Date'].dt.month\n",
    "    df['Day'] = df['Date'].dt.day\n",
    "    df['WeekOfYear'] = df['Date'].dt.isocalendar().week\n",
    "    df['DayOfWeek'] = df['Date'].dt.dayofweek\n",
    "    df['IsWeekend'] = df['DayOfWeek'] >= 5\n",
    "    return df"
   ]
  },
  {
   "cell_type": "code",
   "execution_count": 25,
   "id": "f1b78d52-94f8-42c2-91ec-9349067fb7a0",
   "metadata": {},
   "outputs": [],
   "source": [
    "# Apply to train/test\n",
    "train = preprocess_date(train)\n",
    "test = preprocess_date(test)\n",
    "logging.info(\"✅ Date features extracted for train and test\")\n"
   ]
  },
  {
   "cell_type": "code",
   "execution_count": 27,
   "id": "a7b9f2a5-9f04-4db7-948b-0495bf70a147",
   "metadata": {},
   "outputs": [],
   "source": [
    "# Fill missing values in train/test\n",
    "train.fillna(0, inplace=True)\n",
    "test.fillna(0, inplace=True)"
   ]
  },
  {
   "cell_type": "code",
   "execution_count": 29,
   "id": "c53a4402-569a-4381-b931-5c7e62e9057e",
   "metadata": {},
   "outputs": [],
   "source": [
    "# Save initial processed versions\n",
    "train.to_csv(f'../data/processed_train_{timestamp}.csv', index=False)\n",
    "test.to_csv(f'../data/processed_test_{timestamp}.csv', index=False)\n",
    "logging.info(\"Saved processed train/test before merge\")"
   ]
  },
  {
   "cell_type": "code",
   "execution_count": 31,
   "id": "5e7e7afd-7978-4e87-91a6-5cefb8bc0b4d",
   "metadata": {},
   "outputs": [],
   "source": [
    "# Preprocess store data\n",
    "store.fillna(0, inplace=True)\n",
    "for col in ['StoreType', 'Assortment', 'PromoInterval']:\n",
    "    if col in store.columns:\n",
    "        store[col] = store[col].astype('category').cat.codes\n",
    "store.to_csv(f'../data/processed_store_{timestamp}.csv', index=False)\n",
    "logging.info(\"✅ Store preprocessed and saved\")\n"
   ]
  },
  {
   "cell_type": "code",
   "execution_count": 33,
   "id": "f6afa8c8-28a0-4318-9f8f-45b820747f16",
   "metadata": {},
   "outputs": [],
   "source": [
    "# Merge with store\n",
    "store_train = pd.merge(train, store, on='Store', how='left')\n",
    "store_test = pd.merge(test, store, on='Store', how='left')\n",
    "logging.info(\"🔗 Merged train/test with store\")"
   ]
  },
  {
   "cell_type": "code",
   "execution_count": 35,
   "id": "5824e05d-202f-4406-91f1-8683aeab6a8c",
   "metadata": {},
   "outputs": [],
   "source": [
    "# Post-merge fill NAs (just in case)\n",
    "store_train.fillna(0, inplace=True)\n",
    "store_test.fillna(0, inplace=True)\n"
   ]
  },
  {
   "cell_type": "code",
   "execution_count": 37,
   "id": "c459b46c-4c5f-44ab-bfc0-42fb2b6a6e6a",
   "metadata": {},
   "outputs": [],
   "source": [
    "# Save final merged versions\n",
    "store_train.to_csv(f'../data/store_train_{timestamp}.csv', index=False)\n",
    "store_test.to_csv(f'../data/store_test_{timestamp}.csv', index=False)\n",
    "logging.info(\"✅ Final merged datasets saved with timestamp\")"
   ]
  },
  {
   "cell_type": "code",
   "execution_count": null,
   "id": "d4ec259d-6bb7-4263-91a6-1fedef459a38",
   "metadata": {},
   "outputs": [],
   "source": []
  }
 ],
 "metadata": {
  "kernelspec": {
   "display_name": "Python 3 (ipykernel)",
   "language": "python",
   "name": "python3"
  },
  "language_info": {
   "codemirror_mode": {
    "name": "ipython",
    "version": 3
   },
   "file_extension": ".py",
   "mimetype": "text/x-python",
   "name": "python",
   "nbconvert_exporter": "python",
   "pygments_lexer": "ipython3",
   "version": "3.12.4"
  }
 },
 "nbformat": 4,
 "nbformat_minor": 5
}
